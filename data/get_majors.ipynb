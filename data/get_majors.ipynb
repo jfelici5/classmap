{
 "cells": [
  {
   "cell_type": "code",
   "execution_count": 20,
   "metadata": {},
   "outputs": [],
   "source": [
    "from selenium.webdriver.support.ui import Select\n",
    "from selenium.webdriver.common.by import By\n",
    "from selenium.webdriver.support.ui import WebDriverWait\n",
    "from selenium.webdriver.support import expected_conditions as EC\n",
    "import pandas as pd\n",
    "from selenium.webdriver.common.keys import Keys\n",
    "import time\n",
    "from selenium import webdriver\n",
    "import json\n",
    "\n",
    "driver = webdriver.Safari()\n",
    "driver.maximize_window()\n"
   ]
  },
  {
   "cell_type": "code",
   "execution_count": 21,
   "metadata": {},
   "outputs": [],
   "source": [
    "driver.get(\"https://www.rochester.edu/academics/programs.html\")\n",
    "\n",
    "program_div = driver.find_element(By.XPATH, '//*[@id=\"programs_wrapper\"]/div[1]')\n",
    "courses_split_by_letters = program_div.find_elements(By.TAG_NAME, \"div\")\n",
    "\n",
    "majors = []\n",
    "\n",
    "for letter in courses_split_by_letters:\n",
    "    for program in letter.find_elements(By.TAG_NAME, 'p'):\n",
    "        program_name = program.find_element(By.TAG_NAME, 'a').text\n",
    "        offered_as = program.find_element(By.TAG_NAME, 'span').text.replace(' ', '').split(',')\n",
    "        if 'BA' in offered_as:\n",
    "            field = json.dumps({'major': 'BA ' + program_name, 'value': 'BA ' + program_name})\n",
    "            majors.append(field)\n",
    "        if 'BS' in offered_as:\n",
    "            field = json.dumps({'major': 'BS ' + program_name, 'value': 'BS ' + program_name})\n",
    "            majors.append(field)\n",
    "\n",
    "engineering = driver.find_element(By.XPATH, '//*[@id=\"programs_wrapper\"]/div[2]')\n",
    "programs = engineering.find_elements(By.TAG_NAME, \"div\")\n",
    "for letter in programs:\n",
    "    for program in letter.find_elements(By.TAG_NAME, 'p'):\n",
    "        program_name = program.find_element(By.TAG_NAME, 'a').text\n",
    "        offered_as = program.find_element(By.TAG_NAME, 'span').text.replace(' ', '').split(',')\n",
    "        if 'BA' in offered_as:\n",
    "            field = json.dumps({'major': 'BA ' + program_name, 'value': 'BA ' + program_name})\n",
    "            majors.append(field)\n",
    "        if 'BS' in offered_as:\n",
    "            field = json.dumps({'major': 'BS ' + program_name, 'value': 'BS ' + program_name})\n",
    "            majors.append(field)\n",
    "\n",
    "\n"
   ]
  },
  {
   "cell_type": "code",
   "execution_count": 22,
   "metadata": {},
   "outputs": [],
   "source": [
    "with open('./data.txt', 'a') as f:\n",
    "    f.write(str(majors).replace(\"'\", \"\") + '\\n')"
   ]
  }
 ],
 "metadata": {
  "kernelspec": {
   "display_name": "planner",
   "language": "python",
   "name": "python3"
  },
  "language_info": {
   "codemirror_mode": {
    "name": "ipython",
    "version": 3
   },
   "file_extension": ".py",
   "mimetype": "text/x-python",
   "name": "python",
   "nbconvert_exporter": "python",
   "pygments_lexer": "ipython3",
   "version": "3.9.0"
  }
 },
 "nbformat": 4,
 "nbformat_minor": 2
}
